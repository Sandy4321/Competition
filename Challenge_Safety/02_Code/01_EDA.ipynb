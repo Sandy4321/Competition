{
 "cells": [
  {
   "cell_type": "code",
   "execution_count": 1,
   "metadata": {},
   "outputs": [
    {
     "name": "stderr",
     "output_type": "stream",
     "text": [
      "Using TensorFlow backend.\n"
     ]
    }
   ],
   "source": [
    "# For reading data filenames \n",
    "import glob\n",
    "\n",
    "\n",
    "# For calculating Time \n",
    "import datetime\n",
    "\n",
    "\n",
    "# For processing data\n",
    "import math\n",
    "import pandas as pd\n",
    "import numpy as np\n",
    "\n",
    "## For Features Creation\n",
    "from feature_engineering import *\n",
    "\n",
    "## For Model Building\n",
    "import lightgbm as lgb\n",
    "\n",
    "\n",
    "## For Model Evaluation\n",
    "from sklearn.metrics import accuracy_score, roc_curve, auc, confusion_matrix, accuracy_score\n",
    "\n",
    "\n",
    "## For Sequence Model\n",
    "from sklearn.utils import class_weight\n",
    "from keras import Sequential\n",
    "from keras.layers import Dense, LSTM\n",
    "\n",
    "## For Plotting Graphs\n",
    "import matplotlib\n",
    "import matplotlib.pyplot  as plt\n",
    "\n",
    "## For ignoring Warning\n",
    "import warnings\n",
    "warnings.filterwarnings('ignore')\n",
    "matplotlib.rcParams['figure.figsize'] = [16, 10]\n"
   ]
  },
  {
   "cell_type": "code",
   "execution_count": 2,
   "metadata": {},
   "outputs": [],
   "source": [
    "## Load the data and sorted the data at boookingID*second level\n",
    "\n",
    "def data_load_fun(train_path):\n",
    "    start = datetime.datetime.now().replace(microsecond=0)\n",
    "    features = pd.DataFrame()\n",
    "    filename = []\n",
    "    for files in glob.glob(train_path):\n",
    "        filename.append(files)\n",
    "    for file in filename:\n",
    "        print (file)\n",
    "        tmp_df = pd.read_csv(file)\n",
    "        features = pd.concat([features,tmp_df], axis=0)\n",
    "    features = features.sort_values(by= ['bookingID',\"second\"])\n",
    "    end = datetime.datetime.now().replace(microsecond=0)\n",
    "    print (len(filename), \" Files Loaded Successfuly; Time Taken -->\" ,end-start)\n",
    "    return features"
   ]
  },
  {
   "cell_type": "code",
   "execution_count": 3,
   "metadata": {},
   "outputs": [
    {
     "name": "stdout",
     "output_type": "stream",
     "text": [
      "../01_Data/Train/part-00001-e6120af0-10c2-4248-97c4-81baf4304e5c-c000.csv\n",
      "../01_Data/Train/part-00007-e6120af0-10c2-4248-97c4-81baf4304e5c-c000.csv\n",
      "../01_Data/Train/part-00002-e6120af0-10c2-4248-97c4-81baf4304e5c-c000.csv\n",
      "../01_Data/Train/part-00003-e6120af0-10c2-4248-97c4-81baf4304e5c-c000.csv\n",
      "../01_Data/Train/part-00004-e6120af0-10c2-4248-97c4-81baf4304e5c-c000.csv\n",
      "../01_Data/Train/part-00008-e6120af0-10c2-4248-97c4-81baf4304e5c-c000.csv\n",
      "../01_Data/Train/part-00009-e6120af0-10c2-4248-97c4-81baf4304e5c-c000.csv\n",
      "../01_Data/Train/part-00006-e6120af0-10c2-4248-97c4-81baf4304e5c-c000.csv\n",
      "../01_Data/Train/part-00005-e6120af0-10c2-4248-97c4-81baf4304e5c-c000.csv\n",
      "../01_Data/Train/part-00000-e6120af0-10c2-4248-97c4-81baf4304e5c-c000.csv\n",
      "10  Files Loaded Successfuly; Time Taken --> 0:00:54\n"
     ]
    }
   ],
   "source": [
    "train_path = '../01_Data/Train/*.csv'\n",
    "features = data_load_fun(train_path)"
   ]
  },
  {
   "cell_type": "code",
   "execution_count": 4,
   "metadata": {},
   "outputs": [],
   "source": [
    "#f = features[features.bookingID <10]\n",
    "#f.to_csv('../01_Data/Train/sample.csv',index = False)"
   ]
  },
  {
   "cell_type": "code",
   "execution_count": 5,
   "metadata": {},
   "outputs": [],
   "source": [
    "features_cleaning = features[features.second<10000]"
   ]
  },
  {
   "cell_type": "code",
   "execution_count": 6,
   "metadata": {},
   "outputs": [],
   "source": [
    "trip_dur_info = features_cleaning.groupby(['bookingID'])['second'].count().reset_index()"
   ]
  },
  {
   "cell_type": "code",
   "execution_count": 7,
   "metadata": {},
   "outputs": [
    {
     "data": {
      "text/plain": [
       "120"
      ]
     },
     "execution_count": 7,
     "metadata": {},
     "output_type": "execute_result"
    }
   ],
   "source": [
    "min(trip_dur_info['second'])"
   ]
  },
  {
   "cell_type": "code",
   "execution_count": 8,
   "metadata": {},
   "outputs": [
    {
     "data": {
      "text/plain": [
       "<matplotlib.axes._subplots.AxesSubplot at 0x7fce4e288240>"
      ]
     },
     "execution_count": 8,
     "metadata": {},
     "output_type": "execute_result"
    },
    {
     "data": {
      "image/png": "[encoded data removed]",
      "text/plain": [
       "<Figure size 432x288 with 1 Axes>"
      ]
     },
     "metadata": {},
     "output_type": "display_data"
    }
   ],
   "source": [
    "trip_dur_info['second'].hist(bins=100)"
   ]
  },
  {
   "cell_type": "code",
   "execution_count": 9,
   "metadata": {},
   "outputs": [
    {
     "data": {
      "text/html": [
       "<div>\n",
       "<style scoped>\n",
       "    .dataframe tbody tr th:only-of-type {\n",
       "        vertical-align: middle;\n",
       "    }\n",
       "\n",
       "    .dataframe tbody tr th {\n",
       "        vertical-align: top;\n",
       "    }\n",
       "\n",
       "    .dataframe thead th {\n",
       "        text-align: right;\n",
       "    }\n",
       "</style>\n",
       "<table border=\"1\" class=\"dataframe\">\n",
       "  <thead>\n",
       "    <tr style=\"text-align: right;\">\n",
       "      <th></th>\n",
       "      <th>Unnamed: 0</th>\n",
       "      <th>bookingID</th>\n",
       "      <th>Accuracy</th>\n",
       "      <th>Bearing</th>\n",
       "      <th>acceleration_x</th>\n",
       "      <th>acceleration_y</th>\n",
       "      <th>acceleration_z</th>\n",
       "      <th>gyro_x</th>\n",
       "      <th>gyro_y</th>\n",
       "      <th>gyro_z</th>\n",
       "      <th>second</th>\n",
       "      <th>Speed</th>\n",
       "    </tr>\n",
       "  </thead>\n",
       "  <tbody>\n",
       "    <tr>\n",
       "      <th>0</th>\n",
       "      <td>description</td>\n",
       "      <td>trip id</td>\n",
       "      <td>accuracy inferred by GPS in meters</td>\n",
       "      <td>GPS bearing</td>\n",
       "      <td>accelerometer reading in x axis (m/s2)</td>\n",
       "      <td>accelerometer reading in y axis (m/s2)</td>\n",
       "      <td>accelerometer reading in z axis (m/s2)</td>\n",
       "      <td>gyroscope reading in x axis (rad/s)</td>\n",
       "      <td>gyroscope reading in y axis (rad/s)</td>\n",
       "      <td>gyroscope reading in z axis (rad/s)</td>\n",
       "      <td>time of the record by number of seconds</td>\n",
       "      <td>speed measured by GPS in m/s</td>\n",
       "    </tr>\n",
       "  </tbody>\n",
       "</table>\n",
       "</div>"
      ],
      "text/plain": [
       "    Unnamed: 0 bookingID                            Accuracy      Bearing  \\\n",
       "0  description   trip id  accuracy inferred by GPS in meters  GPS bearing   \n",
       "\n",
       "                           acceleration_x  \\\n",
       "0  accelerometer reading in x axis (m/s2)   \n",
       "\n",
       "                           acceleration_y  \\\n",
       "0  accelerometer reading in y axis (m/s2)   \n",
       "\n",
       "                           acceleration_z  \\\n",
       "0  accelerometer reading in z axis (m/s2)   \n",
       "\n",
       "                                gyro_x                               gyro_y  \\\n",
       "0  gyroscope reading in x axis (rad/s)  gyroscope reading in y axis (rad/s)   \n",
       "\n",
       "                                gyro_z  \\\n",
       "0  gyroscope reading in z axis (rad/s)   \n",
       "\n",
       "                                    second                         Speed  \n",
       "0  time of the record by number of seconds  speed measured by GPS in m/s  "
      ]
     },
     "execution_count": 9,
     "metadata": {},
     "output_type": "execute_result"
    }
   ],
   "source": [
    "data_dict = pd.read_excel('../01_Data/data_dictionary.xlsx')\n",
    "data_dict.head(1)"
   ]
  },
  {
   "cell_type": "code",
   "execution_count": 10,
   "metadata": {},
   "outputs": [
    {
     "ename": "SyntaxError",
     "evalue": "invalid syntax (<ipython-input-10-70a4a6027883>, line 12)",
     "output_type": "error",
     "traceback": [
      "\u001b[0;36m  File \u001b[0;32m\"<ipython-input-10-70a4a6027883>\"\u001b[0;36m, line \u001b[0;32m12\u001b[0m\n\u001b[0;31m    plt.title(col)\u001b[0m\n\u001b[0m      ^\u001b[0m\n\u001b[0;31mSyntaxError\u001b[0m\u001b[0;31m:\u001b[0m invalid syntax\n"
     ]
    }
   ],
   "source": [
    "sample_id = 180388626580\n",
    "sample_1 = data[data.bookingID==sample_id]\n",
    "\n",
    "fig = plt.figure(figsize=(15,10))\n",
    "staring = 331\n",
    "count=0\n",
    "window = int(sample_1.shape[0]/100)\n",
    "staring = int(str(1) + str(window) + str(1))\n",
    "for i in range(window):\n",
    "    ax = fig.add_subplot(staring+count); count+=1\n",
    "    plt.plot(sample_1.second[100*i:100*(i+1)], sample_1.acceleration_x[100*i:100*(i+1)\n",
    "    plt.title(col)"
   ]
  },
  {
   "cell_type": "code",
   "execution_count": null,
   "metadata": {},
   "outputs": [],
   "source": [
    "sample_id = 0\n",
    "sample_0 = data[data.bookingID==sample_id]\n",
    "\n",
    "fig = plt.figure(figsize=(15,10))\n",
    "staring = 331\n",
    "count=0\n",
    "for col in cols:\n",
    "    ax = fig.add_subplot(staring+count); count+=1\n",
    "    plt.plot(sample_0.second, sample_0[col])\n",
    "    plt.title(col)"
   ]
  },
  {
   "cell_type": "code",
   "execution_count": null,
   "metadata": {},
   "outputs": [],
   "source": [
    "acc_info = data.groupby(['bookingID']) ['Accuracy', 'Bearing', 'acceleration_x', 'acceleration_y',\n",
    "       'acceleration_z', 'gyro_x', 'gyro_y', 'gyro_z', 'Speed'].mean().reset_index()\n",
    "acc_info = pd.merge(acc_info,labels, on= ['bookingID'], how=\"left\")"
   ]
  },
  {
   "cell_type": "code",
   "execution_count": null,
   "metadata": {},
   "outputs": [],
   "source": [
    "acc_info[acc_info.Accuracy <10].Accuracy.hist()"
   ]
  },
  {
   "cell_type": "code",
   "execution_count": null,
   "metadata": {},
   "outputs": [],
   "source": [
    "acc_info[acc_info.Accuracy>100].head()"
   ]
  },
  {
   "cell_type": "code",
   "execution_count": null,
   "metadata": {},
   "outputs": [],
   "source": [
    "data[data.Accuracy>100].acceleration_x.mean()"
   ]
  },
  {
   "cell_type": "code",
   "execution_count": null,
   "metadata": {},
   "outputs": [],
   "source": [
    "100*data[data.Accuracy<10].shape[0]/data.shape[0]"
   ]
  },
  {
   "cell_type": "code",
   "execution_count": null,
   "metadata": {},
   "outputs": [],
   "source": [
    "data[(data.Accuracy<10)&(data.acceleration_x<0)].head()"
   ]
  },
  {
   "cell_type": "code",
   "execution_count": null,
   "metadata": {},
   "outputs": [],
   "source": [
    "data[(data.Speed<0) & (data.Accuracy<100)].Accuracy.mean()"
   ]
  },
  {
   "cell_type": "code",
   "execution_count": null,
   "metadata": {},
   "outputs": [],
   "source": [
    "data[data.Accuracy>100].Speed.hist()"
   ]
  },
  {
   "cell_type": "code",
   "execution_count": null,
   "metadata": {},
   "outputs": [],
   "source": [
    "sample_1['acc'] = np.sqrt(sample_1.acceleration_x*sample_1.acceleration_x + \\\n",
    "sample_1.acceleration_y*sample_1.acceleration_y +sample_1.acceleration_z*sample_1.acceleration_z)\n"
   ]
  },
  {
   "cell_type": "code",
   "execution_count": null,
   "metadata": {},
   "outputs": [],
   "source": [
    "plt.scatter(sample_0.Speed,sample_0.Accuracy)"
   ]
  },
  {
   "cell_type": "code",
   "execution_count": null,
   "metadata": {},
   "outputs": [],
   "source": []
  }
 ],
 "metadata": {
  "kernelspec": {
   "display_name": "Python 3",
   "language": "python",
   "name": "python3"
  },
  "language_info": {
   "codemirror_mode": {
    "name": "ipython",
    "version": 3
   },
   "file_extension": ".py",
   "mimetype": "text/x-python",
   "name": "python",
   "nbconvert_exporter": "python",
   "pygments_lexer": "ipython3",
   "version": "3.5.2"
  }
 },
 "nbformat": 4,
 "nbformat_minor": 2
}
